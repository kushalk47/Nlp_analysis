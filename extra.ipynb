{
 "cells": [
  {
   "cell_type": "markdown",
   "metadata": {},
   "source": [
    "# text blob + naivebayes"
   ]
  },
  {
   "cell_type": "code",
   "execution_count": null,
   "metadata": {},
   "outputs": [],
   "source": [
    "from textblob import TextBlob\n",
    "from textblob.classifiers import NaiveBayesClassifier\n",
    "\n",
    "\n",
    "\n",
    "# Step 1: Define Keyword-Based Override\n",
    "frustrated_keywords = {\"abusive\", \"scam\", \"fraud\", \"cheated\", \"rude\", \"arrogant\", \"yelled\", \"yelling\", \"threatened\"}\n",
    "\n",
    "def keyword_flagging(text):\n",
    "    \"\"\"Check for frustrated keywords in text\"\"\"\n",
    "    words = set(text.lower().split())\n",
    "    return any(word in words for word in frustrated_keywords)\n",
    "\n",
    "# Step 2: Train Custom Classifier\n",
    "train_data = [\n",
    "    (\"The dealer scammed me!\", \"Frustrated\"),\n",
    "    (\"He used abusive language and threatened me.\", \"Frustrated\"),\n",
    "    (\"Service was slow but okay.\", \"Neutral\"),\n",
    "    (\"Very happy with the product!\", \"Positive\"),\n",
    "    (\"The car broke within a week!\", \"Frustrated\"),\n",
    "    (\"Dealer was extremely rude and arrogant.\", \"Frustrated\"),\n",
    "]\n",
    "custom_classifier = NaiveBayesClassifier(train_data)\n",
    "\n",
    "# Step 3: Define Hybrid Sentiment Analysis Function\n",
    "def get_hybrid_sentiment(text):\n",
    "    \"\"\"Hybrid sentiment detection using TextBlob + Custom Classifier + Keyword Matching\"\"\"\n",
    "    blob = TextBlob(text, classifier=custom_classifier)\n",
    "    \n",
    "    # Step 3a: Keyword-based flagging (Overrides everything)\n",
    "    if keyword_flagging(text):\n",
    "        return \"Frustrated\"\n",
    "    \n",
    "    # Step 3b: Use custom classifier for known patterns\n",
    "    classified_sentiment = blob.classify()\n",
    "\n",
    "    # Step 3c: If classifier is unsure, use TextBlob’s default polarity\n",
    "    if classified_sentiment == \"Neutral\":\n",
    "        polarity = blob.sentiment.polarity\n",
    "        if polarity < -0.1:\n",
    "            return \"Frustrated\"\n",
    "        elif polarity >= 0.1:\n",
    "            return \"Positive\"\n",
    "    \n",
    "    return classified_sentiment\n",
    "\n",
    "# Step 4: Test Hybrid Model\n",
    "test_texts = [\n",
    "    \"This service is a scam! The dealer yelled at me!\",\n",
    "    \"The product quality is great, I'm satisfied!\",\n",
    "    \"I was cheated by this company!\",\n",
    "    \"The service was slow but not bad.\",\n",
    "    \"The dealer was rude and used foul language!\"\n",
    "]\n",
    "\n",
    "for text in test_texts:\n",
    "    print(f\"Text: {text} -> Sentiment: {get_hybrid_sentiment(text)}\")\n"
   ]
  },
  {
   "cell_type": "markdown",
   "metadata": {},
   "source": [
    "#text blob\n"
   ]
  },
  {
   "cell_type": "code",
   "execution_count": null,
   "metadata": {},
   "outputs": [],
   "source": [
    "from textblob import TextBlob\n",
    "\n",
    "# Custom word sentiment dictionary\n",
    "custom_sentiment = {\n",
    "    \"abusive\": -1.0, \"scammed\": -1.0, \"fraud\": -1.0, \"cheated\": -0.9, \"rude\": -0.8,\n",
    "    \"arrogant\": -0.7, \"foul\": -0.9, \"yelled\": -0.8, \"horrible\": -0.9, \"threatened\": -1.0\n",
    "}\n",
    "\n",
    "# Function to get custom sentiment score\n",
    "def get_custom_sentiment(text):\n",
    "    blob = TextBlob(text)\n",
    "    words = blob.words\n",
    "\n",
    "    # Calculate average polarity\n",
    "    polarity = sum(custom_sentiment.get(word.lower(), TextBlob(word).sentiment.polarity) for word in words) / len(words)\n",
    "\n",
    "    # Categorize based on polarity\n",
    "    if polarity < -0.3:\n",
    "        return \"Frustrated\"\n",
    "    elif -0.3 <= polarity < 0.1:\n",
    "        return \"Neutral\"\n",
    "    else:\n",
    "        return \"Positive\"\n",
    "\n",
    "# Test Example\n",
    "test_text = \"The dealer was abusive and scammed me! Horrible experience.\"\n",
    "print(f\"Text: {test_text} -> Sentiment: {get_custom_sentiment(test_text)}\")"
   ]
  },
  {
   "cell_type": "code",
   "execution_count": null,
   "metadata": {},
   "outputs": [],
   "source": []
  }
 ],
 "metadata": {
  "language_info": {
   "name": "python"
  }
 },
 "nbformat": 4,
 "nbformat_minor": 2
}
