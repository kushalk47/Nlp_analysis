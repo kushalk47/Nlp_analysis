{
 "cells": [
  {
   "cell_type": "markdown",
   "metadata": {},
   "source": [
    "Lemmatization is the process of reducing a word to its **base or dictionary form (lemma)** while considering its meaning and context. It’s different from stemming because lemmatization returns meaningful words, whereas stemming may produce non-existent words.\n",
    "\n",
    "### **Example:**\n",
    "| Word | Lemmatized Form |\n",
    "|------|----------------|\n",
    "| Running | Run |\n",
    "| Better  | Good |\n",
    "| Cars    | Car |\n",
    "| Was     | Be |\n",
    "\n",
    "### **Why Use Lemmatization?**\n",
    "- Improves NLP accuracy by keeping words meaningful.\n",
    "- Helps in text analysis, sentiment analysis, and search engines.\n",
    "\n",
    "### **How to Perform Lemmatization in Python?**\n",
    "You can use **NLTK’s WordNetLemmatizer**:\n",
    "```python\n",
    "from nltk.stem import WordNetLemmatizer\n",
    "from nltk.tokenize import word_tokenize\n",
    "import nltk\n",
    "\n",
    "nltk.download('punkt')\n",
    "nltk.download('wordnet')\n",
    "\n",
    "lemmatizer = WordNetLemmatizer()\n",
    "\n",
    "text = \"The cats are running faster than the dogs.\"\n",
    "tokens = word_tokenize(text)\n",
    "lemmatized_text = [lemmatizer.lemmatize(word) for word in tokens]\n",
    "\n",
    "print(lemmatized_text)  \n",
    "# Output: ['The', 'cat', 'are', 'running', 'faster', 'than', 'the', 'dog', '.']\n",
    "```\n",
    "Here, `\"cats\"` → `\"cat\"`, but `\"running\"` is not lemmatized because we didn’t specify the **part of speech (POS)**.\n",
    "\n",
    "To improve it:\n",
    "```python\n",
    "lemmatized_text = [lemmatizer.lemmatize(word, pos=\"v\") for word in tokens]\n",
    "```\n",
    "This considers verbs and will lemmatize `\"running\"` → `\"run\"`.\n",
    "\n",
    "Let me know if you want to integrate it into your code! 🚀"
   ]
  },
  {
   "cell_type": "markdown",
   "metadata": {},
   "source": []
  }
 ],
 "metadata": {
  "language_info": {
   "name": "python"
  }
 },
 "nbformat": 4,
 "nbformat_minor": 2
}
